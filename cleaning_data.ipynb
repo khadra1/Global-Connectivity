{
 "cells": [
  {
   "cell_type": "code",
   "execution_count": 2,
   "metadata": {},
   "outputs": [],
   "source": [
    "#Import Dependencies\n",
    "import pandas as pd\n",
    "import json"
   ]
  },
  {
   "cell_type": "markdown",
   "metadata": {},
   "source": [
    "# Import the world countries internet data from the World Bank"
   ]
  },
  {
   "cell_type": "code",
   "execution_count": 4,
   "metadata": {},
   "outputs": [],
   "source": [
    "# Import the countries internet data from world bank \n",
    "world_data = pd.read_csv('data/world_bank_internet_data.csv', skipfooter=446, engine='python')\n",
    "# Replace all \"..\" with 0\n",
    "world_data = world_data.replace(\"..\",0)\n",
    "#Rename the Country and Country Codes column to allow merging later on\n",
    "world_data.rename(columns={'Country Name': 'Country', 'Country Code': 'Codes'}, inplace=True)\n",
    "# Remove the brackets and the duplicated value in the Year columns \n",
    "world_data = world_data.rename(columns={col: col.split('[')[0] for col in world_data.columns})\n",
    "# Remove space in Year columns\n",
    "world_data.columns = world_data.columns.str.strip()\n",
    "cols = [3,4,5,6,7,8,9,10,11,12]\n",
    "world_data.drop(world_data.columns[cols],axis=1,inplace=True)\n"
   ]
  },
  {
   "cell_type": "code",
   "execution_count": 5,
   "metadata": {},
   "outputs": [],
   "source": [
    "#Import the coordinate csv file, rename columns for merging with each other later on\n",
    "coordinates = pd.read_csv('data/world_country.csv')\n",
    "coordinates.rename(columns={'iso_con' : 'Codes', 'lat': 'Latitude', 'lon': 'Longitude'},inplace=True)\n",
    "coordinates.drop(columns=['Unnamed: 0', 'country'],inplace=True)\n"
   ]
  },
  {
   "cell_type": "code",
   "execution_count": 6,
   "metadata": {},
   "outputs": [],
   "source": [
    "# Merge the coordinates with tHE world_data DataFrame\n",
    "final_world = pd.merge(world_data, coordinates, on='Codes', how='left')\n",
    "# Find out if there are any NaN values for Latitude and Longitude and then drop them \n",
    "final_world[final_world.isnull().any(axis=1)] \n",
    "final_world.dropna(subset=['Latitude','Longitude'],inplace=True)\n"
   ]
  },
  {
   "cell_type": "code",
   "execution_count": 7,
   "metadata": {},
   "outputs": [],
   "source": [
    "# Turn the Year columns into Rows\n",
    "data = pd.melt(final_world, id_vars=['Country', 'Codes','Series Name', 'Longitude', 'Latitude'], var_name='Year', value_name='Values')\n",
    "# Put all the values in the Values column to numeric\n",
    "data['Values'] = pd.to_numeric(data['Values'])\n"
   ]
  },
  {
   "cell_type": "code",
   "execution_count": null,
   "metadata": {},
   "outputs": [],
   "source": [
    "# Get the unique Series Name column values\n",
    "print(data['Series Name'].unique())"
   ]
  },
  {
   "cell_type": "code",
   "execution_count": 8,
   "metadata": {},
   "outputs": [],
   "source": [
    "# Creating dataframes from each unique value in Series Name column\n",
    "world1=data[data['Series Name']=='Individuals using the Internet (% of population)'].copy()\n",
    "world2=data[data['Series Name']=='Secure Internet servers'].copy()\n",
    "world3=data[data['Series Name']=='Secure Internet servers (per 1 million people)'].copy()\n",
    "world4=data[data['Series Name']=='Mobile cellular subscriptions'].copy()\n",
    "world5=data[data['Series Name']=='Fixed broadband subscriptions'].copy()\n",
    "world6=data[data['Series Name']=='Fixed broadband subscriptions (per 100 people)'].copy()\n",
    "world7=data[data['Series Name']=='Fixed telephone subscriptions'].copy()\n",
    "world8=data[data['Series Name']=='Fixed telephone subscriptions (per 100 people)'].copy()\n",
    "\n",
    "# Dropping Series Name column and renaming values column to the 8 unique values we extracted from Series Name column\n",
    "world1.drop(columns=['Series Name'],inplace=True)\n",
    "world1.rename(columns={'Values': 'Individuals using the Internet (% of population)'}, inplace=True)\n",
    "world2.drop(columns=['Series Name'],inplace=True)\n",
    "world2.rename(columns={'Values': 'Secure Internet servers'}, inplace=True)\n",
    "world3.drop(columns=['Series Name'],inplace=True)\n",
    "world3.rename(columns={'Values': 'Secure Internet servers (per 1 million people)'}, inplace=True)\n",
    "world4.drop(columns=['Series Name'],inplace=True)\n",
    "world4.rename(columns={'Values': 'Mobile cellular subscriptions'}, inplace=True)\n",
    "world5.drop(columns=['Series Name'],inplace=True)\n",
    "world5.rename(columns={'Values': 'Fixed broadband subscriptions'}, inplace=True)\n",
    "world6.drop(columns=['Series Name'],inplace=True)\n",
    "world6.rename(columns={'Values': 'Fixed broadband subscriptions (per 100 people)'}, inplace=True)\n",
    "world7.drop(columns=['Series Name'],inplace=True)\n",
    "world7.rename(columns={'Values': 'Fixed telephone subscriptions'}, inplace=True)\n",
    "world8.drop(columns=['Series Name'],inplace=True)\n",
    "world8.rename(columns={'Values': 'Fixed telephone subscriptions (per 100 people)'}, inplace=True)\n",
    "\n",
    "#Resetting Index\n",
    "world1.reset_index(drop=True, inplace=True)\n",
    "world2.reset_index(drop=True, inplace=True)\n",
    "world3.reset_index(drop=True, inplace=True)\n",
    "world4.reset_index(drop=True, inplace=True)\n",
    "world5.reset_index(drop=True, inplace=True)\n",
    "world6.reset_index(drop=True, inplace=True)\n",
    "world7.reset_index(drop=True, inplace=True)\n",
    "world8.reset_index(drop=True, inplace=True)\n",
    "\n",
    "# Merge the 8 Dataframes into one\n",
    "world = pd.merge(pd.merge(pd.merge(pd.merge(pd.merge(pd.merge(pd.merge(world1,world2), world3), world4), world5),world6),world7),world8)"
   ]
  },
  {
   "cell_type": "markdown",
   "metadata": {},
   "source": [
    "# Import the region part of the World Bank Data csv file"
   ]
  },
  {
   "cell_type": "code",
   "execution_count": null,
   "metadata": {},
   "outputs": [],
   "source": [
    "# #Import the regions data from csv file\n",
    "# world_regions = pd.read_csv('data/world_bank_internet_data.csv', skiprows=range(1,1954), skipfooter=5, engine='python')\n",
    "# # Replace all \"..\" with 0\n",
    "# world_regions = world_regions.replace(\"..\",0)\n",
    "# # #Rename the Country and Country Codes columns\n",
    "# world_regions.rename(columns={\"Country Name\": \"Region\"}, inplace=True)\n",
    "# # # Remove the brackets and the duplicated value in the Year columns \n",
    "# world_regions = world_regions.rename(columns={col: col.split('[')[0] for col in world_regions.columns})\n",
    "# world_regions.drop(columns=['Series Code', 'Country Code'], axis=1, inplace=True)\n",
    "# cols = [2,3,4,5,6,7,8,9,10]\n",
    "# world_regions.drop(world_regions.columns[cols],axis=1,inplace=True)\n",
    "# world_regions"
   ]
  },
  {
   "cell_type": "code",
   "execution_count": null,
   "metadata": {},
   "outputs": [],
   "source": [
    "# print(world_regions['Region'].unique())"
   ]
  },
  {
   "cell_type": "code",
   "execution_count": null,
   "metadata": {},
   "outputs": [],
   "source": [
    "#   data_path = os.path.join(os.path.dirname(__file__), '..', 'data', \"world_bank_internet_data.csv\")\n",
    "#     world_regions = pd.read_csv(data_path, skiprows=range(1,1954), skipfooter=5, engine=\"python\")\n",
    "#     # Replace all \"..\" with 0\n",
    "#     world_regions = world_regions.replace(\"..\",0)\n",
    "#     # #Rename the Country and Country Codes columns\n",
    "#     world_regions.rename(columns={\"Country Name\": \"Country\", \"Country Code\": \"Codes\"}, inplace=True)\n",
    "#     # # Remove the brackets and the duplicated value in the Year columns \n",
    "#     world_regions = world_regions.rename(columns={col: col.split('[')[0] for col in world_regions.columns})\n",
    "#     world_regions.drop(columns=['Series Code', 'Codes'], axis=1, inplace=True)\n",
    "#     world_regions.drop(world_regions.columns[cols],axis=1,inplace=True)"
   ]
  },
  {
   "cell_type": "markdown",
   "metadata": {},
   "source": [
    "# Import ITU Regional, Age and Gender Internet Usage Data"
   ]
  },
  {
   "cell_type": "markdown",
   "metadata": {},
   "source": [
    "### Regions"
   ]
  },
  {
   "cell_type": "code",
   "execution_count": 9,
   "metadata": {},
   "outputs": [],
   "source": [
    "# Reading the ITU excel file region sheet to clean and turn into json object\n",
    "temp_df = pd.read_excel('data/ITU_regional_global_Key_ICT_indicator_aggregates_rev1_Jan_2022.xlsx', header=None, sheet_name = \"By BDT region\")\n",
    "\n",
    "# Getting the first table\n",
    "temp_df.iloc[3:10,0:18]\n",
    "# Getting the first column names\n",
    "table_name = temp_df.iloc[2,0]\n",
    "\n",
    "#dictionary of tables with key as table name and value as dataframe\n",
    "table_list = {}\n",
    "# year list\n",
    "year_list = list(range(2005,2022))\n",
    "# range start at 4(3), all the way to row 92 with a step of 9\n",
    "for i in range(4,92,9):\n",
    "    #table name, 2 rows from where the table start at 0 (1st) column\n",
    "    table_name = temp_df.iloc[i-2,0]\n",
    "    # selecting range of rows and range of columns to extract a table into a dataframe \n",
    "    region_df = temp_df.iloc[i:i+6,0:18]\n",
    "    region_df.reset_index(drop=True, inplace=True)\n",
    "    # Using year_list and table_name as column names\n",
    "    column_names= [table_name] + year_list\n",
    "    # Inserting column names\n",
    "    region_df.columns = column_names\n",
    "    table_list[table_name]= region_df"
   ]
  },
  {
   "cell_type": "code",
   "execution_count": 13,
   "metadata": {},
   "outputs": [
    {
     "data": {
      "text/html": [
       "<div>\n",
       "<style scoped>\n",
       "    .dataframe tbody tr th:only-of-type {\n",
       "        vertical-align: middle;\n",
       "    }\n",
       "\n",
       "    .dataframe tbody tr th {\n",
       "        vertical-align: top;\n",
       "    }\n",
       "\n",
       "    .dataframe thead th {\n",
       "        text-align: right;\n",
       "    }\n",
       "</style>\n",
       "<table border=\"1\" class=\"dataframe\">\n",
       "  <thead>\n",
       "    <tr style=\"text-align: right;\">\n",
       "      <th></th>\n",
       "      <th>Individuals using the Internet</th>\n",
       "      <th>2005</th>\n",
       "      <th>2006</th>\n",
       "      <th>2007</th>\n",
       "      <th>2008</th>\n",
       "      <th>2009</th>\n",
       "      <th>2010</th>\n",
       "      <th>2011</th>\n",
       "      <th>2012</th>\n",
       "      <th>2013</th>\n",
       "      <th>2014</th>\n",
       "      <th>2015</th>\n",
       "      <th>2016</th>\n",
       "      <th>2017</th>\n",
       "      <th>2018</th>\n",
       "      <th>2019</th>\n",
       "      <th>2020</th>\n",
       "      <th>2021</th>\n",
       "    </tr>\n",
       "  </thead>\n",
       "  <tbody>\n",
       "    <tr>\n",
       "      <th>0</th>\n",
       "      <td>Africa</td>\n",
       "      <td>14.5</td>\n",
       "      <td>19.1</td>\n",
       "      <td>23.8</td>\n",
       "      <td>28.5</td>\n",
       "      <td>34.4</td>\n",
       "      <td>49.8</td>\n",
       "      <td>64.2</td>\n",
       "      <td>80.7</td>\n",
       "      <td>100.9</td>\n",
       "      <td>124.1</td>\n",
       "      <td>153.2</td>\n",
       "      <td>176.3</td>\n",
       "      <td>209.8</td>\n",
       "      <td>246.2</td>\n",
       "      <td>278.6</td>\n",
       "      <td>315.4</td>\n",
       "      <td>360.1</td>\n",
       "    </tr>\n",
       "    <tr>\n",
       "      <th>1</th>\n",
       "      <td>Americas</td>\n",
       "      <td>315</td>\n",
       "      <td>344.6</td>\n",
       "      <td>383.6</td>\n",
       "      <td>401.5</td>\n",
       "      <td>424.0</td>\n",
       "      <td>451.9</td>\n",
       "      <td>478.8</td>\n",
       "      <td>521.3</td>\n",
       "      <td>535.5</td>\n",
       "      <td>561.7</td>\n",
       "      <td>607.9</td>\n",
       "      <td>668.7</td>\n",
       "      <td>711.1</td>\n",
       "      <td>740.7</td>\n",
       "      <td>770.4</td>\n",
       "      <td>802.2</td>\n",
       "      <td>834.7</td>\n",
       "    </tr>\n",
       "    <tr>\n",
       "      <th>2</th>\n",
       "      <td>Arab States</td>\n",
       "      <td>27.3</td>\n",
       "      <td>34.0</td>\n",
       "      <td>48.2</td>\n",
       "      <td>56.8</td>\n",
       "      <td>67.5</td>\n",
       "      <td>79.8</td>\n",
       "      <td>91.1</td>\n",
       "      <td>104.3</td>\n",
       "      <td>117.4</td>\n",
       "      <td>132.9</td>\n",
       "      <td>146.8</td>\n",
       "      <td>172.2</td>\n",
       "      <td>199.4</td>\n",
       "      <td>214.2</td>\n",
       "      <td>239.7</td>\n",
       "      <td>270.9</td>\n",
       "      <td>291.1</td>\n",
       "    </tr>\n",
       "    <tr>\n",
       "      <th>3</th>\n",
       "      <td>Asia-Pacific</td>\n",
       "      <td>361</td>\n",
       "      <td>413.6</td>\n",
       "      <td>524.4</td>\n",
       "      <td>635.6</td>\n",
       "      <td>748.2</td>\n",
       "      <td>894.4</td>\n",
       "      <td>1008.6</td>\n",
       "      <td>1103.7</td>\n",
       "      <td>1203.9</td>\n",
       "      <td>1302.1</td>\n",
       "      <td>1404.4</td>\n",
       "      <td>1533.9</td>\n",
       "      <td>1635.2</td>\n",
       "      <td>1804.7</td>\n",
       "      <td>2076.7</td>\n",
       "      <td>2418.4</td>\n",
       "      <td>2613.3</td>\n",
       "    </tr>\n",
       "    <tr>\n",
       "      <th>4</th>\n",
       "      <td>CIS</td>\n",
       "      <td>24.7</td>\n",
       "      <td>31.8</td>\n",
       "      <td>42.6</td>\n",
       "      <td>55.0</td>\n",
       "      <td>74.0</td>\n",
       "      <td>81.1</td>\n",
       "      <td>96.0</td>\n",
       "      <td>122.0</td>\n",
       "      <td>133.2</td>\n",
       "      <td>142.3</td>\n",
       "      <td>146.6</td>\n",
       "      <td>155.3</td>\n",
       "      <td>162.3</td>\n",
       "      <td>175.0</td>\n",
       "      <td>185.6</td>\n",
       "      <td>193.3</td>\n",
       "      <td>200.7</td>\n",
       "    </tr>\n",
       "    <tr>\n",
       "      <th>5</th>\n",
       "      <td>Europe</td>\n",
       "      <td>279.6</td>\n",
       "      <td>302.1</td>\n",
       "      <td>343.0</td>\n",
       "      <td>372.4</td>\n",
       "      <td>395.9</td>\n",
       "      <td>421.2</td>\n",
       "      <td>433.1</td>\n",
       "      <td>451.5</td>\n",
       "      <td>467.4</td>\n",
       "      <td>483.6</td>\n",
       "      <td>492.0</td>\n",
       "      <td>507.8</td>\n",
       "      <td>523.1</td>\n",
       "      <td>546.3</td>\n",
       "      <td>565.2</td>\n",
       "      <td>582.5</td>\n",
       "      <td>598.9</td>\n",
       "    </tr>\n",
       "  </tbody>\n",
       "</table>\n",
       "</div>"
      ],
      "text/plain": [
       "  Individuals using the Internet   2005   2006   2007   2008   2009   2010  \\\n",
       "0                         Africa   14.5   19.1   23.8   28.5   34.4   49.8   \n",
       "1                       Americas    315  344.6  383.6  401.5  424.0  451.9   \n",
       "2                    Arab States   27.3   34.0   48.2   56.8   67.5   79.8   \n",
       "3                   Asia-Pacific    361  413.6  524.4  635.6  748.2  894.4   \n",
       "4                            CIS   24.7   31.8   42.6   55.0   74.0   81.1   \n",
       "5                         Europe  279.6  302.1  343.0  372.4  395.9  421.2   \n",
       "\n",
       "     2011    2012    2013    2014    2015    2016    2017    2018    2019  \\\n",
       "0    64.2    80.7   100.9   124.1   153.2   176.3   209.8   246.2   278.6   \n",
       "1   478.8   521.3   535.5   561.7   607.9   668.7   711.1   740.7   770.4   \n",
       "2    91.1   104.3   117.4   132.9   146.8   172.2   199.4   214.2   239.7   \n",
       "3  1008.6  1103.7  1203.9  1302.1  1404.4  1533.9  1635.2  1804.7  2076.7   \n",
       "4    96.0   122.0   133.2   142.3   146.6   155.3   162.3   175.0   185.6   \n",
       "5   433.1   451.5   467.4   483.6   492.0   507.8   523.1   546.3   565.2   \n",
       "\n",
       "     2020    2021  \n",
       "0   315.4   360.1  \n",
       "1   802.2   834.7  \n",
       "2   270.9   291.1  \n",
       "3  2418.4  2613.3  \n",
       "4   193.3   200.7  \n",
       "5   582.5   598.9  "
      ]
     },
     "execution_count": 13,
     "metadata": {},
     "output_type": "execute_result"
    }
   ],
   "source": [
    "region_df"
   ]
  },
  {
   "cell_type": "markdown",
   "metadata": {},
   "source": [
    "### Gender"
   ]
  },
  {
   "cell_type": "code",
   "execution_count": 10,
   "metadata": {},
   "outputs": [],
   "source": [
    "# Reading the ITU excel file sex and age sheet to clean and turn into gender and age dataframes for data cleaning\n",
    "gender_df = pd.read_excel('data/ITU_regional_global_Key_ICT_indicator_aggregates_rev1_Jan_2022.xlsx', header=[3,4], sheet_name = \"Internet use by sex & age\")"
   ]
  },
  {
   "cell_type": "code",
   "execution_count": null,
   "metadata": {},
   "outputs": [],
   "source": [
    "# Get the gender tables\n",
    "gender_df=gender_df.iloc[:13,0:12]\n",
    "#Drop unnecessary columns\n",
    "cols = [4,8]\n",
    "gender_df.drop(gender_df.columns[cols],axis=1,inplace=True)\n",
    "# Drop unnecessary rows\n",
    "gender_df = gender_df.drop(6)\n",
    "gender_df = gender_df.drop(7)"
   ]
  },
  {
   "cell_type": "markdown",
   "metadata": {},
   "source": [
    "### Age"
   ]
  },
  {
   "cell_type": "code",
   "execution_count": 12,
   "metadata": {},
   "outputs": [],
   "source": [
    "age_df = pd.read_excel('data/ITU_regional_global_Key_ICT_indicator_aggregates_rev1_Jan_2022.xlsx', skiprows=range(0,19),skipfooter=10 , sheet_name = \"Internet use by sex & age\")\n"
   ]
  },
  {
   "cell_type": "code",
   "execution_count": null,
   "metadata": {},
   "outputs": [],
   "source": [
    "# Get the age tables from the gender_age excel file\n",
    "age_df=age_df.iloc[18:32,0:7]\n",
    "# cols = [4,5]\n",
    "# age_df.drop(age_df.columns[cols],axis=1,inplace=True)\n",
    "# age_df = age_df.drop(24)\n",
    "# age_df = age_df.drop(25)\n",
    "age_df"
   ]
  }
 ],
 "metadata": {
  "kernelspec": {
   "display_name": "PythonData",
   "language": "python",
   "name": "pythondata"
  },
  "language_info": {
   "codemirror_mode": {
    "name": "ipython",
    "version": 3
   },
   "file_extension": ".py",
   "mimetype": "text/x-python",
   "name": "python",
   "nbconvert_exporter": "python",
   "pygments_lexer": "ipython3",
   "version": "3.7.11"
  }
 },
 "nbformat": 4,
 "nbformat_minor": 5
}
